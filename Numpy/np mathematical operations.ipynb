{
 "cells": [
  {
   "cell_type": "code",
   "execution_count": 1,
   "id": "f4258213-d077-4779-82f3-9f97acb8377a",
   "metadata": {},
   "outputs": [],
   "source": [
    "import numpy as np"
   ]
  },
  {
   "cell_type": "code",
   "execution_count": 2,
   "id": "0b24d840-151d-4b6c-a1b2-067449ec4af7",
   "metadata": {},
   "outputs": [],
   "source": [
    "ar1=np.array([[6,1,9],[1,8,2],[5,0,2]])"
   ]
  },
  {
   "cell_type": "code",
   "execution_count": 3,
   "id": "1d1d8e2e-278a-4c27-8dbd-5ca67c3b51ce",
   "metadata": {},
   "outputs": [],
   "source": [
    "ar2=np.array([[2,0,4],[8,2,6],[4,3,9]])"
   ]
  },
  {
   "cell_type": "code",
   "execution_count": 4,
   "id": "1a070916-b15f-40c4-b592-b8bb2e686c19",
   "metadata": {},
   "outputs": [
    {
     "data": {
      "text/plain": [
       "array([[ 8,  1, 13],\n",
       "       [ 9, 10,  8],\n",
       "       [ 9,  3, 11]])"
      ]
     },
     "execution_count": 4,
     "metadata": {},
     "output_type": "execute_result"
    }
   ],
   "source": [
    "ar1+ar2"
   ]
  },
  {
   "cell_type": "code",
   "execution_count": 5,
   "id": "382ef694-dad4-45e1-a9f9-9ad211cf75d6",
   "metadata": {},
   "outputs": [
    {
     "data": {
      "text/plain": [
       "array([[12,  0, 36],\n",
       "       [ 8, 16, 12],\n",
       "       [20,  0, 18]])"
      ]
     },
     "execution_count": 5,
     "metadata": {},
     "output_type": "execute_result"
    }
   ],
   "source": [
    "ar1*ar2"
   ]
  },
  {
   "cell_type": "code",
   "execution_count": 6,
   "id": "56e4f1b1-8a17-48af-ab8e-53ab65832fc2",
   "metadata": {},
   "outputs": [
    {
     "data": {
      "text/plain": [
       "array([[ 4,  1,  5],\n",
       "       [-7,  6, -4],\n",
       "       [ 1, -3, -7]])"
      ]
     },
     "execution_count": 6,
     "metadata": {},
     "output_type": "execute_result"
    }
   ],
   "source": [
    "ar1-ar2"
   ]
  },
  {
   "cell_type": "code",
   "execution_count": 7,
   "id": "edcb406b-9337-4b55-b33a-3cb38231efe4",
   "metadata": {},
   "outputs": [
    {
     "name": "stderr",
     "output_type": "stream",
     "text": [
      "/tmp/ipykernel_10078/54374712.py:1: RuntimeWarning: divide by zero encountered in divide\n",
      "  ar1/ar2\n"
     ]
    },
    {
     "data": {
      "text/plain": [
       "array([[3.        ,        inf, 2.25      ],\n",
       "       [0.125     , 4.        , 0.33333333],\n",
       "       [1.25      , 0.        , 0.22222222]])"
      ]
     },
     "execution_count": 7,
     "metadata": {},
     "output_type": "execute_result"
    }
   ],
   "source": [
    "ar1/ar2"
   ]
  },
  {
   "cell_type": "code",
   "execution_count": 8,
   "id": "0dd5ae0e-edf8-4789-82a6-c4a8629ac77a",
   "metadata": {},
   "outputs": [
    {
     "name": "stderr",
     "output_type": "stream",
     "text": [
      "/tmp/ipykernel_10078/107717858.py:1: RuntimeWarning: divide by zero encountered in remainder\n",
      "  ar1%ar2\n"
     ]
    },
    {
     "data": {
      "text/plain": [
       "array([[0, 0, 1],\n",
       "       [1, 0, 2],\n",
       "       [1, 0, 2]])"
      ]
     },
     "execution_count": 8,
     "metadata": {},
     "output_type": "execute_result"
    }
   ],
   "source": [
    "ar1%ar2"
   ]
  },
  {
   "cell_type": "code",
   "execution_count": 9,
   "id": "e7b3fede-b8fc-44a1-b303-9305abd3b3ec",
   "metadata": {},
   "outputs": [
    {
     "name": "stderr",
     "output_type": "stream",
     "text": [
      "/tmp/ipykernel_10078/2793834162.py:1: RuntimeWarning: divide by zero encountered in floor_divide\n",
      "  ar1//ar2\n"
     ]
    },
    {
     "data": {
      "text/plain": [
       "array([[3, 0, 2],\n",
       "       [0, 4, 0],\n",
       "       [1, 0, 0]])"
      ]
     },
     "execution_count": 9,
     "metadata": {},
     "output_type": "execute_result"
    }
   ],
   "source": [
    "ar1//ar2"
   ]
  },
  {
   "cell_type": "code",
   "execution_count": 10,
   "id": "daed1ef7-02c7-435a-bce1-809d6c39a43e",
   "metadata": {},
   "outputs": [
    {
     "data": {
      "text/plain": [
       "[5, 8, 1, 6, 7, 3]"
      ]
     },
     "execution_count": 10,
     "metadata": {},
     "output_type": "execute_result"
    }
   ],
   "source": [
    "[5,8,1]+[6,7,3]"
   ]
  },
  {
   "cell_type": "code",
   "execution_count": 11,
   "id": "eb038f52-f33b-4791-8703-dd84ea452629",
   "metadata": {},
   "outputs": [
    {
     "data": {
      "text/plain": [
       "array([[2.44948974, 1.        , 3.        ],\n",
       "       [1.        , 2.82842712, 1.41421356],\n",
       "       [2.23606798, 0.        , 1.41421356]])"
      ]
     },
     "execution_count": 11,
     "metadata": {},
     "output_type": "execute_result"
    }
   ],
   "source": [
    "np.sqrt(ar1)"
   ]
  },
  {
   "cell_type": "code",
   "execution_count": 12,
   "id": "157d1f13-52dd-4b26-988d-6a5d97d0c29a",
   "metadata": {},
   "outputs": [
    {
     "data": {
      "text/plain": [
       "array([[6, 1, 9],\n",
       "       [1, 8, 2],\n",
       "       [5, 0, 2]])"
      ]
     },
     "execution_count": 12,
     "metadata": {},
     "output_type": "execute_result"
    }
   ],
   "source": [
    "ar1"
   ]
  },
  {
   "cell_type": "code",
   "execution_count": 13,
   "id": "2c8087f1-15c0-4f98-a17c-39ce2459b128",
   "metadata": {},
   "outputs": [
    {
     "data": {
      "text/plain": [
       "array([[2.44948974, 1.        , 3.        ],\n",
       "       [1.        , 2.82842712, 1.41421356],\n",
       "       [2.23606798, 0.        , 1.41421356]])"
      ]
     },
     "execution_count": 13,
     "metadata": {},
     "output_type": "execute_result"
    }
   ],
   "source": [
    "np.sqrt(ar1)"
   ]
  },
  {
   "cell_type": "code",
   "execution_count": 14,
   "id": "cf250ca0-609d-4739-8517-0f9d3c766211",
   "metadata": {},
   "outputs": [
    {
     "data": {
      "text/plain": [
       "np.int64(34)"
      ]
     },
     "execution_count": 14,
     "metadata": {},
     "output_type": "execute_result"
    }
   ],
   "source": [
    "ar1.sum()"
   ]
  },
  {
   "cell_type": "code",
   "execution_count": 15,
   "id": "22405516-3050-4f7c-9daf-59755e80ef04",
   "metadata": {},
   "outputs": [
    {
     "data": {
      "text/plain": [
       "np.int64(0)"
      ]
     },
     "execution_count": 15,
     "metadata": {},
     "output_type": "execute_result"
    }
   ],
   "source": [
    "ar1.min()"
   ]
  },
  {
   "cell_type": "code",
   "execution_count": 16,
   "id": "819cdcf8-86c4-4ce7-9a4d-5329be0529ae",
   "metadata": {},
   "outputs": [
    {
     "data": {
      "text/plain": [
       "np.int64(9)"
      ]
     },
     "execution_count": 16,
     "metadata": {},
     "output_type": "execute_result"
    }
   ],
   "source": [
    "ar1.max()"
   ]
  },
  {
   "cell_type": "code",
   "execution_count": 17,
   "id": "f1296ed0-eb38-4f39-bf57-e4194dfc8b8e",
   "metadata": {},
   "outputs": [
    {
     "data": {
      "text/plain": [
       "(array([0, 0, 1]), array([0, 2, 1]))"
      ]
     },
     "execution_count": 17,
     "metadata": {},
     "output_type": "execute_result"
    }
   ],
   "source": [
    "np.where(ar1>5)"
   ]
  },
  {
   "cell_type": "code",
   "execution_count": 18,
   "id": "ea733e30-9dad-428b-b5bd-975a6200e730",
   "metadata": {},
   "outputs": [
    {
     "data": {
      "text/plain": [
       "tuple"
      ]
     },
     "execution_count": 18,
     "metadata": {},
     "output_type": "execute_result"
    }
   ],
   "source": [
    "type(np.where(ar1>5))"
   ]
  },
  {
   "cell_type": "code",
   "execution_count": 19,
   "id": "b2f85ff8-5619-47f9-95b4-d318c6d7d3c3",
   "metadata": {},
   "outputs": [
    {
     "data": {
      "text/plain": [
       "8"
      ]
     },
     "execution_count": 19,
     "metadata": {},
     "output_type": "execute_result"
    }
   ],
   "source": [
    "np.count_nonzero(ar1)"
   ]
  },
  {
   "cell_type": "code",
   "execution_count": 20,
   "id": "03ac54e3-d4b6-4b85-ac14-ff3792e3e66d",
   "metadata": {},
   "outputs": [
    {
     "data": {
      "text/plain": [
       "(array([0, 0, 0, 1, 1, 1, 2, 2]), array([0, 1, 2, 0, 1, 2, 0, 2]))"
      ]
     },
     "execution_count": 20,
     "metadata": {},
     "output_type": "execute_result"
    }
   ],
   "source": [
    "np.nonzero(ar1)"
   ]
  },
  {
   "cell_type": "code",
   "execution_count": 21,
   "id": "d3699d99-6afd-410b-b23d-ea68a24b7494",
   "metadata": {},
   "outputs": [
    {
     "data": {
      "text/plain": [
       "tuple"
      ]
     },
     "execution_count": 21,
     "metadata": {},
     "output_type": "execute_result"
    }
   ],
   "source": [
    "type(np.nonzero(ar1))"
   ]
  },
  {
   "cell_type": "code",
   "execution_count": 22,
   "id": "6310d4f3-c664-4e31-94ea-c53eb39e746f",
   "metadata": {},
   "outputs": [],
   "source": [
    "ar1[0,0]=0"
   ]
  },
  {
   "cell_type": "code",
   "execution_count": 23,
   "id": "8bfdcddc-75ae-487e-9789-ce72f2cc232b",
   "metadata": {},
   "outputs": [
    {
     "data": {
      "text/plain": [
       "(array([0, 0, 1, 1, 1, 2, 2]), array([1, 2, 0, 1, 2, 0, 2]))"
      ]
     },
     "execution_count": 23,
     "metadata": {},
     "output_type": "execute_result"
    }
   ],
   "source": [
    "np.nonzero(ar1)"
   ]
  }
 ],
 "metadata": {
  "kernelspec": {
   "display_name": "Python 3 (ipykernel)",
   "language": "python",
   "name": "python3"
  },
  "language_info": {
   "codemirror_mode": {
    "name": "ipython",
    "version": 3
   },
   "file_extension": ".py",
   "mimetype": "text/x-python",
   "name": "python",
   "nbconvert_exporter": "python",
   "pygments_lexer": "ipython3",
   "version": "3.12.2"
  }
 },
 "nbformat": 4,
 "nbformat_minor": 5
}
