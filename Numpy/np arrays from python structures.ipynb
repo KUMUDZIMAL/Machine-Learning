{
 "cells": [
  {
   "cell_type": "code",
   "execution_count": 1,
   "id": "217535e7-e345-4ce5-a518-9810125f7bba",
   "metadata": {},
   "outputs": [],
   "source": [
    "import numpy as np"
   ]
  },
  {
   "cell_type": "code",
   "execution_count": 2,
   "id": "15e2b2bc-6cdd-47e2-a086-919a9c8d04d3",
   "metadata": {},
   "outputs": [],
   "source": [
    "myarr=np.array([[3,89,32,343,432,33]],dtype=np.int64)"
   ]
  },
  {
   "cell_type": "code",
   "execution_count": 3,
   "id": "10ae529c-770d-49d0-a9e1-7432c537bfeb",
   "metadata": {},
   "outputs": [
    {
     "data": {
      "text/plain": [
       "np.int64(32)"
      ]
     },
     "execution_count": 3,
     "metadata": {},
     "output_type": "execute_result"
    }
   ],
   "source": [
    "myarr[0,2]"
   ]
  },
  {
   "cell_type": "code",
   "execution_count": 4,
   "id": "04c70494-d2fc-4234-9214-898f71b1371c",
   "metadata": {},
   "outputs": [
    {
     "name": "stdout",
     "output_type": "stream",
     "text": [
      "32\n"
     ]
    }
   ],
   "source": [
    "print(myarr[0,2])"
   ]
  },
  {
   "cell_type": "code",
   "execution_count": 5,
   "id": "7375404e-674e-455a-82b8-d82aa0ddb14f",
   "metadata": {},
   "outputs": [
    {
     "name": "stdout",
     "output_type": "stream",
     "text": [
      "33\n"
     ]
    }
   ],
   "source": [
    "print(myarr[0,5])"
   ]
  },
  {
   "cell_type": "code",
   "execution_count": 6,
   "id": "e8f87d41-237a-457b-a5ce-37316445017a",
   "metadata": {},
   "outputs": [
    {
     "name": "stdout",
     "output_type": "stream",
     "text": [
      "(1, 6)\n"
     ]
    }
   ],
   "source": [
    "print(myarr.shape)"
   ]
  },
  {
   "cell_type": "code",
   "execution_count": 7,
   "id": "aac58fde-ae56-4dfc-8018-c3701680a17b",
   "metadata": {},
   "outputs": [
    {
     "name": "stdout",
     "output_type": "stream",
     "text": [
      "int64\n"
     ]
    }
   ],
   "source": [
    "print(myarr.dtype)"
   ]
  },
  {
   "cell_type": "code",
   "execution_count": 8,
   "id": "fbff7ca7-36eb-4421-a70c-cd21052834ad",
   "metadata": {},
   "outputs": [],
   "source": [
    "myarr[0,3]=99"
   ]
  },
  {
   "cell_type": "code",
   "execution_count": 9,
   "id": "13b6172b-0b96-41fa-989a-1c86c4469e34",
   "metadata": {},
   "outputs": [
    {
     "name": "stdout",
     "output_type": "stream",
     "text": [
      "[[  3  89  32  99 432  33]]\n"
     ]
    }
   ],
   "source": [
    "print(myarr)"
   ]
  },
  {
   "cell_type": "code",
   "execution_count": null,
   "id": "0d4bac29-c030-4e5b-b58d-5623176eb87c",
   "metadata": {},
   "outputs": [],
   "source": []
  }
 ],
 "metadata": {
  "kernelspec": {
   "display_name": "Python 3 (ipykernel)",
   "language": "python",
   "name": "python3"
  },
  "language_info": {
   "codemirror_mode": {
    "name": "ipython",
    "version": 3
   },
   "file_extension": ".py",
   "mimetype": "text/x-python",
   "name": "python",
   "nbconvert_exporter": "python",
   "pygments_lexer": "ipython3",
   "version": "3.12.2"
  }
 },
 "nbformat": 4,
 "nbformat_minor": 5
}
